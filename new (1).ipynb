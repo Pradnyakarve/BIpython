{
  "nbformat": 4,
  "nbformat_minor": 0,
  "metadata": {
    "colab": {
      "name": "new.ipynb",
      "provenance": [],
      "collapsed_sections": []
    },
    "kernelspec": {
      "name": "python3",
      "display_name": "Python 3"
    },
    "accelerator": "GPU"
  },
  "cells": [
    {
      "cell_type": "markdown",
      "metadata": {
        "id": "O0MCOIjDBG-9",
        "colab_type": "text"
      },
      "source": [
        "## **1.program to compute the area of cirlce**"
      ]
    },
    {
      "cell_type": "code",
      "metadata": {
        "id": "TFVjPsPosCSY",
        "colab_type": "code",
        "colab": {}
      },
      "source": [
        "#program to compute the area of cirlce"
      ],
      "execution_count": 0,
      "outputs": []
    },
    {
      "cell_type": "code",
      "metadata": {
        "id": "_5I7BoRs6IMh",
        "colab_type": "code",
        "colab": {}
      },
      "source": [
        "import math as m"
      ],
      "execution_count": 0,
      "outputs": []
    },
    {
      "cell_type": "code",
      "metadata": {
        "id": "mDSrUoyw6orE",
        "colab_type": "code",
        "outputId": "46e1410e-ed89-46a3-eb1b-e33b21c2ee43",
        "colab": {
          "base_uri": "https://localhost:8080/",
          "height": 50
        }
      },
      "source": [
        "r=int(input(('enter the radius of circle ')))\n",
        "area=float(((m.pi)*r*r))\n",
        "print('the area of circle with radius',r,'is ',area)"
      ],
      "execution_count": 0,
      "outputs": [
        {
          "output_type": "stream",
          "text": [
            "enter the radius of circle 4\n",
            "the area of circle with radius 4 is  50.26548245743669\n"
          ],
          "name": "stdout"
        }
      ]
    },
    {
      "cell_type": "markdown",
      "metadata": {
        "id": "THHVAQF0Ayyc",
        "colab_type": "text"
      },
      "source": [
        "## **2.program to get the first and last name from the user and print it in the reverse order with space in between**"
      ]
    },
    {
      "cell_type": "code",
      "metadata": {
        "id": "hsFQLV3od4e0",
        "colab_type": "code",
        "outputId": "830df986-db26-4697-86f8-c3fdff61a17b",
        "colab": {
          "base_uri": "https://localhost:8080/",
          "height": 84
        }
      },
      "source": [
        "#program to get the first and last name from the user and print it in the reverse order with space in between\n",
        "def reverse(s): \n",
        "  str = \"\" \n",
        "  for i in s: \n",
        "    str = i +\" \"+ str\n",
        "  return str\n",
        "s=input('enter the frist and the last name of the user\\n')\n",
        "print('the original string is',s)\n",
        "\n",
        "print(\"the reverse of the string\",reverse(s))"
      ],
      "execution_count": 0,
      "outputs": [
        {
          "output_type": "stream",
          "text": [
            "enter the frist and the last name of the user\n",
            "pradnya karve\n",
            "the original string is pradnya karve\n",
            "the reverse of the string e v r a k   a y n d a r p \n"
          ],
          "name": "stdout"
        }
      ]
    },
    {
      "cell_type": "markdown",
      "metadata": {
        "id": "AG6fsa6yAjkj",
        "colab_type": "text"
      },
      "source": [
        "## **3.program to check the number is divisbile by 3**"
      ]
    },
    {
      "cell_type": "code",
      "metadata": {
        "id": "lrAkwZu6fuWX",
        "colab_type": "code",
        "outputId": "0de601a3-3863-423d-8b53-6e2fd469bc31",
        "colab": {
          "base_uri": "https://localhost:8080/",
          "height": 50
        }
      },
      "source": [
        "#program to check the number is divisible by 3 or not\n",
        "num=int(input('enter the number '))\n",
        "if num%3==0:\n",
        "  print('the number is divisbile by 3')\n",
        "else:\n",
        " print('the number is not divisible by 3') "
      ],
      "execution_count": 41,
      "outputs": [
        {
          "output_type": "stream",
          "text": [
            "enter the number 6\n",
            "the number is divisbile by 3\n"
          ],
          "name": "stdout"
        }
      ]
    },
    {
      "cell_type": "markdown",
      "metadata": {
        "id": "CLegIOMmASG8",
        "colab_type": "text"
      },
      "source": [
        "## **4.program to do math functions**"
      ]
    },
    {
      "cell_type": "code",
      "metadata": {
        "id": "qcigffTciQrj",
        "colab_type": "code",
        "outputId": "fed58301-a145-45a5-e051-181156c02551",
        "colab": {
          "base_uri": "https://localhost:8080/",
          "height": 134
        }
      },
      "source": [
        "#program for math functions\n",
        "angle=180\n",
        "a=m.tan(angle)\n",
        "print('the tan of angle is ',a)\n",
        "b=m.sin(angle)\n",
        "print('the sin of angle is ',b)\n",
        "c=m.cosh(angle)\n",
        "print('the cosh of angle is ',c)\n",
        "d=m.sinh(angle)\n",
        "print('the sinh of angle is ',d)\n",
        "print(m.gcd(3,2))\n",
        "print(m.factorial(3))\n",
        "print(m.trunc(3.14526))\n",
        "\n",
        "\n"
      ],
      "execution_count": 0,
      "outputs": [
        {
          "output_type": "stream",
          "text": [
            "the tan of angle is  1.3386902103511544\n",
            "the sin of angle is  -0.8011526357338304\n",
            "the cosh of angle is  7.446921003909191e+77\n",
            "the sinh of angle is  7.446921003909191e+77\n",
            "1\n",
            "6\n",
            "3\n"
          ],
          "name": "stdout"
        }
      ]
    },
    {
      "cell_type": "markdown",
      "metadata": {
        "id": "lQgJVseRAAFI",
        "colab_type": "text"
      },
      "source": [
        "### **5.program to do sum of squares**"
      ]
    },
    {
      "cell_type": "code",
      "metadata": {
        "id": "OAT-f56pj1jh",
        "colab_type": "code",
        "outputId": "a3057bb2-87b6-48ac-da48-e6e84e27b57d",
        "colab": {
          "base_uri": "https://localhost:8080/",
          "height": 50
        }
      },
      "source": [
        "\n",
        "\n",
        "#program to do sum of squares\n",
        "def squaresum(n):\n",
        "  sum=0\n",
        "  for i in range(1,n+1):\n",
        "     sum=sum+(i*i)\n",
        "  return sum\n",
        "\n",
        "n=int(input('enter the value of n '))\n",
        "print('the sum of squares of n numbers is',squaresum(n)) \n",
        "\n",
        "\n"
      ],
      "execution_count": 0,
      "outputs": [
        {
          "output_type": "stream",
          "text": [
            "enter the value of n 6\n",
            "the sum of squares of n numbers is 91\n"
          ],
          "name": "stdout"
        }
      ]
    },
    {
      "cell_type": "markdown",
      "metadata": {
        "id": "x7wpgC96B0nc",
        "colab_type": "text"
      },
      "source": [
        "# **6.Write a void function that receives a 4 digit number and calculates the sum of squares of first 2 digits number and last two-digit number (Hint:- if 1233 is passed as an argument then the function should calculate 12**2+33**2 **)"
      ]
    },
    {
      "cell_type": "code",
      "metadata": {
        "id": "9H_BerGTn4O-",
        "colab_type": "code",
        "outputId": "d65a0ef7-4ed5-4bbd-99b2-afcde251985b",
        "colab": {
          "base_uri": "https://localhost:8080/",
          "height": 50
        }
      },
      "source": [
        "\n",
        "#program to calculate sum of sqaures of 2 digits out of 4 digit number\n",
        "n=int(input('enter a 4 digit number '))\n",
        "x=n//100\n",
        "x1=n-x*100\n",
        "print(math.pow(x,2)+math.pow(x1,2))\n"
      ],
      "execution_count": 0,
      "outputs": [
        {
          "output_type": "stream",
          "text": [
            "enter a 4 digit number 1234\n",
            "1300.0\n"
          ],
          "name": "stdout"
        }
      ]
    },
    {
      "cell_type": "code",
      "metadata": {
        "id": "GiF2xTpykzrg",
        "colab_type": "code",
        "colab": {}
      },
      "source": [
        ""
      ],
      "execution_count": 0,
      "outputs": []
    },
    {
      "cell_type": "markdown",
      "metadata": {
        "id": "IK3w3AeGtml4",
        "colab_type": "text"
      },
      "source": [
        "## **7**. **function to check whether the number is prime or not**\n",
        "\n"
      ]
    },
    {
      "cell_type": "code",
      "metadata": {
        "id": "owMY80AStple",
        "colab_type": "code",
        "colab": {
          "base_uri": "https://localhost:8080/",
          "height": 67
        },
        "outputId": "bfdcd56d-36c0-47e8-877b-776fe29d1c70"
      },
      "source": [
        "def prime(a):\n",
        "  if a%2==0:\n",
        "    print(\"the number is  not a Prime Number \")\n",
        "  else:\n",
        "    print(\"the number is a Prime Number \")\n",
        "\n",
        "#program to invoke this function\n",
        "\n",
        "a=int(input(\"enter the number \"))\n",
        "print(prime(a))\n",
        "\n"
      ],
      "execution_count": 5,
      "outputs": [
        {
          "output_type": "stream",
          "text": [
            "enter the number 11\n",
            "the number is a Prime Number \n",
            "None\n"
          ],
          "name": "stdout"
        }
      ]
    },
    {
      "cell_type": "code",
      "metadata": {
        "id": "ypiid2XfvBd4",
        "colab_type": "code",
        "colab": {}
      },
      "source": [
        ""
      ],
      "execution_count": 0,
      "outputs": []
    },
    {
      "cell_type": "markdown",
      "metadata": {
        "id": "bl0DirFNveYe",
        "colab_type": "text"
      },
      "source": [
        "## **8**.**wap that takes character as an input and return true if it is a vowel otherwise fasle.**"
      ]
    },
    {
      "cell_type": "code",
      "metadata": {
        "id": "cDJ--BNRwcoI",
        "colab_type": "code",
        "colab": {
          "base_uri": "https://localhost:8080/",
          "height": 50
        },
        "outputId": "494d594c-759c-4698-b446-ca54eef20ab9"
      },
      "source": [
        "ch=(input(\"enter the character value \"))\n",
        "if(ch==\"a\"or ch==\"e\"or ch==\"i\" or ch==\"o\" or ch==\"u\" or ch==\"A\" or ch==\"E\" or ch==\"I\" or ch==\"O\" or ch==\"U\"):\n",
        "  print(True)\n",
        "else:\n",
        "  print(False)  "
      ],
      "execution_count": 8,
      "outputs": [
        {
          "output_type": "stream",
          "text": [
            "enter the character value a\n",
            "True\n"
          ],
          "name": "stdout"
        }
      ]
    },
    {
      "cell_type": "code",
      "metadata": {
        "id": "AbokG5trxrzb",
        "colab_type": "code",
        "colab": {}
      },
      "source": [
        ""
      ],
      "execution_count": 0,
      "outputs": []
    },
    {
      "cell_type": "markdown",
      "metadata": {
        "id": "p4HfvECpyp28",
        "colab_type": "text"
      },
      "source": [
        "# **9**.**program to find the cube of last digit**"
      ]
    },
    {
      "cell_type": "code",
      "metadata": {
        "id": "tRPd6C1D0lf5",
        "colab_type": "code",
        "colab": {
          "base_uri": "https://localhost:8080/",
          "height": 50
        },
        "outputId": "1036c56a-2111-4c52-a8f8-3e71dcded810"
      },
      "source": [
        "num=input(\"enter the number \")\n",
        "last_digit=num[-1]\n",
        "\n",
        "def cube(last_digit):\n",
        "  a=pow(int(last_digit),3)\n",
        "  return a\n",
        "\n",
        "\n",
        "print(cube(last_digit)) \n",
        "   "
      ],
      "execution_count": 13,
      "outputs": [
        {
          "output_type": "stream",
          "text": [
            "enter the number 4567\n",
            "343\n"
          ],
          "name": "stdout"
        }
      ]
    },
    {
      "cell_type": "code",
      "metadata": {
        "id": "F7w63f3u1n7m",
        "colab_type": "code",
        "colab": {}
      },
      "source": [
        ""
      ],
      "execution_count": 0,
      "outputs": []
    },
    {
      "cell_type": "markdown",
      "metadata": {
        "id": "HuhGPW1v2p4S",
        "colab_type": "text"
      },
      "source": [
        "# **10.program to return the unique elements of a list from the user**"
      ]
    },
    {
      "cell_type": "code",
      "metadata": {
        "id": "dBvYY8uJ2yKL",
        "colab_type": "code",
        "colab": {
          "base_uri": "https://localhost:8080/",
          "height": 235
        },
        "outputId": "9961e423-658d-4a47-a9dd-4a5bf69ddd13"
      },
      "source": [
        "\n",
        "!pip install numpy\n",
        "import numpy as np\n",
        "\n",
        "list=[]\n",
        "n=int(input(\"enter the number of elements \"))\n",
        "for i in range(0,n):\n",
        "  ele=int(input())\n",
        "  list.append(ele)\n",
        "print(list)\n",
        "\n",
        "\n",
        "def unique(list):\n",
        "  x=np.array(list)\n",
        "print(np.unique(list))\n",
        "\n",
        "print(unique(list))\n",
        "\n",
        "\n",
        "\n",
        "\n",
        "\n",
        "\n",
        "\n",
        "\n"
      ],
      "execution_count": 40,
      "outputs": [
        {
          "output_type": "stream",
          "text": [
            "Requirement already satisfied: numpy in /usr/local/lib/python3.6/dist-packages (1.18.2)\n",
            "enter the number of elements 8\n",
            "1\n",
            "1\n",
            "1\n",
            "2\n",
            "3\n",
            "3\n",
            "4\n",
            "5\n",
            "[1, 1, 1, 2, 3, 3, 4, 5]\n",
            "[1 2 3 4 5]\n",
            "None\n"
          ],
          "name": "stdout"
        }
      ]
    },
    {
      "cell_type": "code",
      "metadata": {
        "id": "EpkCh5JT7cX_",
        "colab_type": "code",
        "colab": {}
      },
      "source": [
        "853\n",
        "\n"
      ],
      "execution_count": 0,
      "outputs": []
    },
    {
      "cell_type": "markdown",
      "metadata": {
        "id": "ecs3T4AK8yqy",
        "colab_type": "text"
      },
      "source": [
        "list=[]\n",
        "n=int(input(\"enter the number of elements \"))\n",
        "for i in range(0,n):\n",
        "  ele=int(input())\n",
        "  list.append(ele)\n",
        "print(list)"
      ]
    }
  ]
}